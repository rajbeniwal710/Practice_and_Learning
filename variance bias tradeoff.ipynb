{
 "cells": [
  {
   "cell_type": "code",
   "execution_count": 3,
   "metadata": {},
   "outputs": [],
   "source": [
    "import numpy as np\n",
    "import pandas as pd"
   ]
  },
  {
   "cell_type": "code",
   "execution_count": 1,
   "metadata": {},
   "outputs": [
    {
     "ename": "NameError",
     "evalue": "name 'pd' is not defined",
     "output_type": "error",
     "traceback": [
      "\u001b[1;31m---------------------------------------------------------------------------\u001b[0m",
      "\u001b[1;31mNameError\u001b[0m                                 Traceback (most recent call last)",
      "\u001b[1;32m<ipython-input-1-7c0133423ca5>\u001b[0m in \u001b[0;36m<module>\u001b[1;34m\u001b[0m\n\u001b[0;32m      1\u001b[0m \u001b[1;31m#testing it\u001b[0m\u001b[1;33m\u001b[0m\u001b[1;33m\u001b[0m\u001b[1;33m\u001b[0m\u001b[0m\n\u001b[1;32m----> 2\u001b[1;33m \u001b[0mtmp\u001b[0m \u001b[1;33m=\u001b[0m \u001b[0mpd\u001b[0m\u001b[1;33m.\u001b[0m\u001b[0mDataFrame\u001b[0m\u001b[1;33m(\u001b[0m\u001b[1;33m[\u001b[0m\u001b[1;36m1.\u001b[0m\u001b[1;33m,\u001b[0m \u001b[1;36m2.\u001b[0m\u001b[1;33m,\u001b[0m \u001b[1;36m3.\u001b[0m\u001b[1;33m]\u001b[0m\u001b[1;33m)\u001b[0m\u001b[1;33m\u001b[0m\u001b[1;33m\u001b[0m\u001b[0m\n\u001b[0m\u001b[0;32m      3\u001b[0m \u001b[0mtmp_cubed\u001b[0m \u001b[1;33m=\u001b[0m \u001b[0mtmp\u001b[0m\u001b[1;33m.\u001b[0m\u001b[0mapply\u001b[0m\u001b[1;33m(\u001b[0m\u001b[1;32mlambda\u001b[0m \u001b[0mx\u001b[0m\u001b[1;33m:\u001b[0m \u001b[0mx\u001b[0m\u001b[1;33m**\u001b[0m\u001b[1;36m3\u001b[0m\u001b[1;33m)\u001b[0m\u001b[1;33m\u001b[0m\u001b[1;33m\u001b[0m\u001b[0m\n\u001b[0;32m      4\u001b[0m \u001b[0mprint\u001b[0m\u001b[1;33m(\u001b[0m\u001b[0mtmp\u001b[0m\u001b[1;33m)\u001b[0m\u001b[1;33m\u001b[0m\u001b[1;33m\u001b[0m\u001b[0m\n\u001b[0;32m      5\u001b[0m \u001b[0mprint\u001b[0m\u001b[1;33m(\u001b[0m\u001b[0mtmp_cubed\u001b[0m\u001b[1;33m)\u001b[0m\u001b[1;33m\u001b[0m\u001b[1;33m\u001b[0m\u001b[0m\n",
      "\u001b[1;31mNameError\u001b[0m: name 'pd' is not defined"
     ]
    }
   ],
   "source": [
    "#testing it\n",
    "tmp = pd.DataFrame([1., 2., 3.])\n",
    "tmp_cubed = tmp.apply(lambda x: x**3)\n",
    "print(tmp)\n",
    "print(tmp_cubed)"
   ]
  },
  {
   "cell_type": "code",
   "execution_count": 5,
   "metadata": {},
   "outputs": [],
   "source": [
    "def polynomial_df(feature, degree):\n",
    "    #initialize an empty dataframe\n",
    "    poly_df = pd.DataFrame()\n",
    "    poly_df['power_1'] = feature.values.tolist() #clumn power_1 contains feature values\n",
    "    # first check if degree > 1\n",
    "    if degree > 1:\n",
    "        # then loop over the remaining degrees:\n",
    "        # range usually starts at 0 and stops at the endpoint-1. We want it to start at 2 and stop at degree\n",
    "        for power in range(2, degree+1):\n",
    "            # first we'll give the column a name:\n",
    "            name = 'power_' + str(power)\n",
    "            poly_df[name] = feature.apply(lambda x: x**power)\n",
    "    return poly_df"
   ]
  },
  {
   "cell_type": "code",
   "execution_count": 6,
   "metadata": {},
   "outputs": [
    {
     "data": {
      "text/html": [
       "<div>\n",
       "<style scoped>\n",
       "    .dataframe tbody tr th:only-of-type {\n",
       "        vertical-align: middle;\n",
       "    }\n",
       "\n",
       "    .dataframe tbody tr th {\n",
       "        vertical-align: top;\n",
       "    }\n",
       "\n",
       "    .dataframe thead th {\n",
       "        text-align: right;\n",
       "    }\n",
       "</style>\n",
       "<table border=\"1\" class=\"dataframe\">\n",
       "  <thead>\n",
       "    <tr style=\"text-align: right;\">\n",
       "      <th></th>\n",
       "      <th>power_1</th>\n",
       "      <th>power_2</th>\n",
       "      <th>power_3</th>\n",
       "    </tr>\n",
       "  </thead>\n",
       "  <tbody>\n",
       "    <tr>\n",
       "      <th>0</th>\n",
       "      <td>[1.0]</td>\n",
       "      <td>1.0</td>\n",
       "      <td>1.0</td>\n",
       "    </tr>\n",
       "    <tr>\n",
       "      <th>1</th>\n",
       "      <td>[2.0]</td>\n",
       "      <td>4.0</td>\n",
       "      <td>8.0</td>\n",
       "    </tr>\n",
       "    <tr>\n",
       "      <th>2</th>\n",
       "      <td>[3.0]</td>\n",
       "      <td>9.0</td>\n",
       "      <td>27.0</td>\n",
       "    </tr>\n",
       "  </tbody>\n",
       "</table>\n",
       "</div>"
      ],
      "text/plain": [
       "  power_1  power_2  power_3\n",
       "0   [1.0]      1.0      1.0\n",
       "1   [2.0]      4.0      8.0\n",
       "2   [3.0]      9.0     27.0"
      ]
     },
     "execution_count": 6,
     "metadata": {},
     "output_type": "execute_result"
    }
   ],
   "source": [
    "polynomial_df(tmp,3)"
   ]
  },
  {
   "cell_type": "code",
   "execution_count": 7,
   "metadata": {},
   "outputs": [],
   "source": [
    "data_train = pd.read_csv(\"D:/self study/python notes/New folder/kc_house_train_data.csv\")\n",
    "data_train = data_train.astype({'bathrooms':float, 'waterfront':int, 'sqft_above':int, 'sqft_living15':float, 'grade':int, 'yr_renovated':int, 'price':float, 'bedrooms':float, 'zipcode':str, 'long':float, 'sqft_lot15':float, 'sqft_living':float, 'floors':str, 'condition':int, 'lat':float, 'date':str, 'sqft_basement':int, 'yr_built':int, 'id':str, 'sqft_lot':int, 'view':int})"
   ]
  },
  {
   "cell_type": "code",
   "execution_count": 8,
   "metadata": {},
   "outputs": [],
   "source": [
    "x = data_train['sqft_living']\n",
    "y = data_train['price']"
   ]
  },
  {
   "cell_type": "code",
   "execution_count": 9,
   "metadata": {},
   "outputs": [
    {
     "name": "stderr",
     "output_type": "stream",
     "text": [
      "C:\\Users\\king\\Anaconda3\\lib\\site-packages\\statsmodels\\tools\\_testing.py:19: FutureWarning: pandas.util.testing is deprecated. Use the functions in the public API at pandas.testing instead.\n",
      "  import pandas.util.testing as tm\n"
     ]
    }
   ],
   "source": [
    "import statsmodels.api as sm"
   ]
  },
  {
   "cell_type": "code",
   "execution_count": 10,
   "metadata": {},
   "outputs": [],
   "source": [
    "x = sm.add_constant(x)\n",
    "model = sm.OLS(y, x).fit()"
   ]
  },
  {
   "cell_type": "code",
   "execution_count": 11,
   "metadata": {},
   "outputs": [
    {
     "data": {
      "text/html": [
       "<table class=\"simpletable\">\n",
       "<caption>OLS Regression Results</caption>\n",
       "<tr>\n",
       "  <th>Dep. Variable:</th>          <td>price</td>      <th>  R-squared:         </th>  <td>   0.494</td>  \n",
       "</tr>\n",
       "<tr>\n",
       "  <th>Model:</th>                   <td>OLS</td>       <th>  Adj. R-squared:    </th>  <td>   0.494</td>  \n",
       "</tr>\n",
       "<tr>\n",
       "  <th>Method:</th>             <td>Least Squares</td>  <th>  F-statistic:       </th>  <td>1.698e+04</td> \n",
       "</tr>\n",
       "<tr>\n",
       "  <th>Date:</th>             <td>Sun, 19 Jul 2020</td> <th>  Prob (F-statistic):</th>   <td>  0.00</td>   \n",
       "</tr>\n",
       "<tr>\n",
       "  <th>Time:</th>                 <td>11:55:52</td>     <th>  Log-Likelihood:    </th> <td>-2.4161e+05</td>\n",
       "</tr>\n",
       "<tr>\n",
       "  <th>No. Observations:</th>      <td> 17384</td>      <th>  AIC:               </th>  <td>4.832e+05</td> \n",
       "</tr>\n",
       "<tr>\n",
       "  <th>Df Residuals:</th>          <td> 17382</td>      <th>  BIC:               </th>  <td>4.832e+05</td> \n",
       "</tr>\n",
       "<tr>\n",
       "  <th>Df Model:</th>              <td>     1</td>      <th>                     </th>      <td> </td>     \n",
       "</tr>\n",
       "<tr>\n",
       "  <th>Covariance Type:</th>      <td>nonrobust</td>    <th>                     </th>      <td> </td>     \n",
       "</tr>\n",
       "</table>\n",
       "<table class=\"simpletable\">\n",
       "<tr>\n",
       "       <td></td>          <th>coef</th>     <th>std err</th>      <th>t</th>      <th>P>|t|</th>  <th>[0.025</th>    <th>0.975]</th>  \n",
       "</tr>\n",
       "<tr>\n",
       "  <th>const</th>       <td>-4.712e+04</td> <td> 4923.344</td> <td>   -9.570</td> <td> 0.000</td> <td>-5.68e+04</td> <td>-3.75e+04</td>\n",
       "</tr>\n",
       "<tr>\n",
       "  <th>sqft_living</th> <td>  281.9588</td> <td>    2.164</td> <td>  130.292</td> <td> 0.000</td> <td>  277.717</td> <td>  286.201</td>\n",
       "</tr>\n",
       "</table>\n",
       "<table class=\"simpletable\">\n",
       "<tr>\n",
       "  <th>Omnibus:</th>       <td>11826.248</td> <th>  Durbin-Watson:     </th>  <td>   1.996</td> \n",
       "</tr>\n",
       "<tr>\n",
       "  <th>Prob(Omnibus):</th>  <td> 0.000</td>   <th>  Jarque-Bera (JB):  </th> <td>416980.854</td>\n",
       "</tr>\n",
       "<tr>\n",
       "  <th>Skew:</th>           <td> 2.799</td>   <th>  Prob(JB):          </th>  <td>    0.00</td> \n",
       "</tr>\n",
       "<tr>\n",
       "  <th>Kurtosis:</th>       <td>26.331</td>   <th>  Cond. No.          </th>  <td>5.62e+03</td> \n",
       "</tr>\n",
       "</table><br/><br/>Warnings:<br/>[1] Standard Errors assume that the covariance matrix of the errors is correctly specified.<br/>[2] The condition number is large, 5.62e+03. This might indicate that there are<br/>strong multicollinearity or other numerical problems."
      ],
      "text/plain": [
       "<class 'statsmodels.iolib.summary.Summary'>\n",
       "\"\"\"\n",
       "                            OLS Regression Results                            \n",
       "==============================================================================\n",
       "Dep. Variable:                  price   R-squared:                       0.494\n",
       "Model:                            OLS   Adj. R-squared:                  0.494\n",
       "Method:                 Least Squares   F-statistic:                 1.698e+04\n",
       "Date:                Sun, 19 Jul 2020   Prob (F-statistic):               0.00\n",
       "Time:                        11:55:52   Log-Likelihood:            -2.4161e+05\n",
       "No. Observations:               17384   AIC:                         4.832e+05\n",
       "Df Residuals:                   17382   BIC:                         4.832e+05\n",
       "Df Model:                           1                                         \n",
       "Covariance Type:            nonrobust                                         \n",
       "===============================================================================\n",
       "                  coef    std err          t      P>|t|      [0.025      0.975]\n",
       "-------------------------------------------------------------------------------\n",
       "const       -4.712e+04   4923.344     -9.570      0.000   -5.68e+04   -3.75e+04\n",
       "sqft_living   281.9588      2.164    130.292      0.000     277.717     286.201\n",
       "==============================================================================\n",
       "Omnibus:                    11826.248   Durbin-Watson:                   1.996\n",
       "Prob(Omnibus):                  0.000   Jarque-Bera (JB):           416980.854\n",
       "Skew:                           2.799   Prob(JB):                         0.00\n",
       "Kurtosis:                      26.331   Cond. No.                     5.62e+03\n",
       "==============================================================================\n",
       "\n",
       "Warnings:\n",
       "[1] Standard Errors assume that the covariance matrix of the errors is correctly specified.\n",
       "[2] The condition number is large, 5.62e+03. This might indicate that there are\n",
       "strong multicollinearity or other numerical problems.\n",
       "\"\"\""
      ]
     },
     "execution_count": 11,
     "metadata": {},
     "output_type": "execute_result"
    }
   ],
   "source": [
    "model.summary()"
   ]
  },
  {
   "cell_type": "code",
   "execution_count": 12,
   "metadata": {},
   "outputs": [],
   "source": [
    "import matplotlib.pyplot as plt\n",
    "%matplotlib inline"
   ]
  },
  {
   "cell_type": "code",
   "execution_count": 13,
   "metadata": {},
   "outputs": [],
   "source": [
    "y_predict = model.predict(x)"
   ]
  },
  {
   "cell_type": "code",
   "execution_count": 14,
   "metadata": {},
   "outputs": [
    {
     "data": {
      "text/plain": [
       "[<matplotlib.lines.Line2D at 0x138639acc08>,\n",
       " <matplotlib.lines.Line2D at 0x138639b6248>,\n",
       " <matplotlib.lines.Line2D at 0x138639a0c88>,\n",
       " <matplotlib.lines.Line2D at 0x138639b6c48>]"
      ]
     },
     "execution_count": 14,
     "metadata": {},
     "output_type": "execute_result"
    },
    {
     "data": {
      "image/png": "[encoded data removed]",
      "text/plain": [
       "<Figure size 432x288 with 1 Axes>"
      ]
     },
     "metadata": {
      "needs_background": "light"
     },
     "output_type": "display_data"
    }
   ],
   "source": [
    "plt.plot(x,y,'.',\n",
    "        x,y_predict,'--')"
   ]
  },
  {
   "cell_type": "code",
   "execution_count": 15,
   "metadata": {},
   "outputs": [],
   "source": [
    "feature = data_train['sqft_living']\n",
    "poly_data = polynomial_df(feature, 1)\n",
    "poly_data['price'] = data_train['price'] "
   ]
  },
  {
   "cell_type": "code",
   "execution_count": 16,
   "metadata": {},
   "outputs": [
    {
     "data": {
      "text/html": [
       "<table class=\"simpletable\">\n",
       "<caption>OLS Regression Results</caption>\n",
       "<tr>\n",
       "  <th>Dep. Variable:</th>          <td>price</td>      <th>  R-squared:         </th>  <td>   0.494</td>  \n",
       "</tr>\n",
       "<tr>\n",
       "  <th>Model:</th>                   <td>OLS</td>       <th>  Adj. R-squared:    </th>  <td>   0.494</td>  \n",
       "</tr>\n",
       "<tr>\n",
       "  <th>Method:</th>             <td>Least Squares</td>  <th>  F-statistic:       </th>  <td>1.698e+04</td> \n",
       "</tr>\n",
       "<tr>\n",
       "  <th>Date:</th>             <td>Sun, 19 Jul 2020</td> <th>  Prob (F-statistic):</th>   <td>  0.00</td>   \n",
       "</tr>\n",
       "<tr>\n",
       "  <th>Time:</th>                 <td>11:55:55</td>     <th>  Log-Likelihood:    </th> <td>-2.4161e+05</td>\n",
       "</tr>\n",
       "<tr>\n",
       "  <th>No. Observations:</th>      <td> 17384</td>      <th>  AIC:               </th>  <td>4.832e+05</td> \n",
       "</tr>\n",
       "<tr>\n",
       "  <th>Df Residuals:</th>          <td> 17382</td>      <th>  BIC:               </th>  <td>4.832e+05</td> \n",
       "</tr>\n",
       "<tr>\n",
       "  <th>Df Model:</th>              <td>     1</td>      <th>                     </th>      <td> </td>     \n",
       "</tr>\n",
       "<tr>\n",
       "  <th>Covariance Type:</th>      <td>nonrobust</td>    <th>                     </th>      <td> </td>     \n",
       "</tr>\n",
       "</table>\n",
       "<table class=\"simpletable\">\n",
       "<tr>\n",
       "     <td></td>        <th>coef</th>     <th>std err</th>      <th>t</th>      <th>P>|t|</th>  <th>[0.025</th>    <th>0.975]</th>  \n",
       "</tr>\n",
       "<tr>\n",
       "  <th>const</th>   <td>-4.712e+04</td> <td> 4923.344</td> <td>   -9.570</td> <td> 0.000</td> <td>-5.68e+04</td> <td>-3.75e+04</td>\n",
       "</tr>\n",
       "<tr>\n",
       "  <th>power_1</th> <td>  281.9588</td> <td>    2.164</td> <td>  130.292</td> <td> 0.000</td> <td>  277.717</td> <td>  286.201</td>\n",
       "</tr>\n",
       "</table>\n",
       "<table class=\"simpletable\">\n",
       "<tr>\n",
       "  <th>Omnibus:</th>       <td>11826.248</td> <th>  Durbin-Watson:     </th>  <td>   1.996</td> \n",
       "</tr>\n",
       "<tr>\n",
       "  <th>Prob(Omnibus):</th>  <td> 0.000</td>   <th>  Jarque-Bera (JB):  </th> <td>416980.854</td>\n",
       "</tr>\n",
       "<tr>\n",
       "  <th>Skew:</th>           <td> 2.799</td>   <th>  Prob(JB):          </th>  <td>    0.00</td> \n",
       "</tr>\n",
       "<tr>\n",
       "  <th>Kurtosis:</th>       <td>26.331</td>   <th>  Cond. No.          </th>  <td>5.62e+03</td> \n",
       "</tr>\n",
       "</table><br/><br/>Warnings:<br/>[1] Standard Errors assume that the covariance matrix of the errors is correctly specified.<br/>[2] The condition number is large, 5.62e+03. This might indicate that there are<br/>strong multicollinearity or other numerical problems."
      ],
      "text/plain": [
       "<class 'statsmodels.iolib.summary.Summary'>\n",
       "\"\"\"\n",
       "                            OLS Regression Results                            \n",
       "==============================================================================\n",
       "Dep. Variable:                  price   R-squared:                       0.494\n",
       "Model:                            OLS   Adj. R-squared:                  0.494\n",
       "Method:                 Least Squares   F-statistic:                 1.698e+04\n",
       "Date:                Sun, 19 Jul 2020   Prob (F-statistic):               0.00\n",
       "Time:                        11:55:55   Log-Likelihood:            -2.4161e+05\n",
       "No. Observations:               17384   AIC:                         4.832e+05\n",
       "Df Residuals:                   17382   BIC:                         4.832e+05\n",
       "Df Model:                           1                                         \n",
       "Covariance Type:            nonrobust                                         \n",
       "==============================================================================\n",
       "                 coef    std err          t      P>|t|      [0.025      0.975]\n",
       "------------------------------------------------------------------------------\n",
       "const      -4.712e+04   4923.344     -9.570      0.000   -5.68e+04   -3.75e+04\n",
       "power_1      281.9588      2.164    130.292      0.000     277.717     286.201\n",
       "==============================================================================\n",
       "Omnibus:                    11826.248   Durbin-Watson:                   1.996\n",
       "Prob(Omnibus):                  0.000   Jarque-Bera (JB):           416980.854\n",
       "Skew:                           2.799   Prob(JB):                         0.00\n",
       "Kurtosis:                      26.331   Cond. No.                     5.62e+03\n",
       "==============================================================================\n",
       "\n",
       "Warnings:\n",
       "[1] Standard Errors assume that the covariance matrix of the errors is correctly specified.\n",
       "[2] The condition number is large, 5.62e+03. This might indicate that there are\n",
       "strong multicollinearity or other numerical problems.\n",
       "\"\"\""
      ]
     },
     "execution_count": 16,
     "metadata": {},
     "output_type": "execute_result"
    }
   ],
   "source": [
    "x = poly_data['power_1']\n",
    "y = poly_data['price']\n",
    "x = sm.add_constant(x)\n",
    "model = sm.OLS(y, x).fit()\n",
    "model.summary()"
   ]
  },
  {
   "cell_type": "code",
   "execution_count": 17,
   "metadata": {},
   "outputs": [],
   "source": [
    "y_predict = model.predict(x)"
   ]
  },
  {
   "cell_type": "code",
   "execution_count": 18,
   "metadata": {},
   "outputs": [
    {
     "data": {
      "text/plain": [
       "[<matplotlib.lines.Line2D at 0x13863ac70c8>,\n",
       " <matplotlib.lines.Line2D at 0x13863ad40c8>,\n",
       " <matplotlib.lines.Line2D at 0x13863acce88>,\n",
       " <matplotlib.lines.Line2D at 0x13863ad44c8>]"
      ]
     },
     "execution_count": 18,
     "metadata": {},
     "output_type": "execute_result"
    },
    {
     "data": {
      "image/png": "[encoded data removed]",
      "text/plain": [
       "<Figure size 432x288 with 1 Axes>"
      ]
     },
     "metadata": {
      "needs_background": "light"
     },
     "output_type": "display_data"
    }
   ],
   "source": [
    "plt.plot(x,y,'.',\n",
    "        x,y_predict,'--')"
   ]
  },
  {
   "cell_type": "code",
   "execution_count": 19,
   "metadata": {},
   "outputs": [
    {
     "data": {
      "text/html": [
       "<div>\n",
       "<style scoped>\n",
       "    .dataframe tbody tr th:only-of-type {\n",
       "        vertical-align: middle;\n",
       "    }\n",
       "\n",
       "    .dataframe tbody tr th {\n",
       "        vertical-align: top;\n",
       "    }\n",
       "\n",
       "    .dataframe thead th {\n",
       "        text-align: right;\n",
       "    }\n",
       "</style>\n",
       "<table border=\"1\" class=\"dataframe\">\n",
       "  <thead>\n",
       "    <tr style=\"text-align: right;\">\n",
       "      <th></th>\n",
       "      <th>power_1</th>\n",
       "      <th>power_2</th>\n",
       "      <th>price</th>\n",
       "    </tr>\n",
       "  </thead>\n",
       "  <tbody>\n",
       "    <tr>\n",
       "      <th>0</th>\n",
       "      <td>1180.0</td>\n",
       "      <td>1392400.0</td>\n",
       "      <td>221900.0</td>\n",
       "    </tr>\n",
       "    <tr>\n",
       "      <th>1</th>\n",
       "      <td>2570.0</td>\n",
       "      <td>6604900.0</td>\n",
       "      <td>538000.0</td>\n",
       "    </tr>\n",
       "    <tr>\n",
       "      <th>2</th>\n",
       "      <td>770.0</td>\n",
       "      <td>592900.0</td>\n",
       "      <td>180000.0</td>\n",
       "    </tr>\n",
       "    <tr>\n",
       "      <th>3</th>\n",
       "      <td>1960.0</td>\n",
       "      <td>3841600.0</td>\n",
       "      <td>604000.0</td>\n",
       "    </tr>\n",
       "    <tr>\n",
       "      <th>4</th>\n",
       "      <td>1680.0</td>\n",
       "      <td>2822400.0</td>\n",
       "      <td>510000.0</td>\n",
       "    </tr>\n",
       "  </tbody>\n",
       "</table>\n",
       "</div>"
      ],
      "text/plain": [
       "   power_1    power_2     price\n",
       "0   1180.0  1392400.0  221900.0\n",
       "1   2570.0  6604900.0  538000.0\n",
       "2    770.0   592900.0  180000.0\n",
       "3   1960.0  3841600.0  604000.0\n",
       "4   1680.0  2822400.0  510000.0"
      ]
     },
     "execution_count": 19,
     "metadata": {},
     "output_type": "execute_result"
    }
   ],
   "source": [
    "feature = data_train['sqft_living']\n",
    "poly2_data = polynomial_df(feature, 2)\n",
    "poly2_data['price'] = data_train['price'] \n",
    "poly2_data.head()"
   ]
  },
  {
   "cell_type": "code",
   "execution_count": 20,
   "metadata": {},
   "outputs": [
    {
     "data": {
      "text/html": [
       "<table class=\"simpletable\">\n",
       "<caption>OLS Regression Results</caption>\n",
       "<tr>\n",
       "  <th>Dep. Variable:</th>          <td>price</td>      <th>  R-squared:         </th>  <td>   0.534</td>  \n",
       "</tr>\n",
       "<tr>\n",
       "  <th>Model:</th>                   <td>OLS</td>       <th>  Adj. R-squared:    </th>  <td>   0.534</td>  \n",
       "</tr>\n",
       "<tr>\n",
       "  <th>Method:</th>             <td>Least Squares</td>  <th>  F-statistic:       </th>  <td>   9956.</td>  \n",
       "</tr>\n",
       "<tr>\n",
       "  <th>Date:</th>             <td>Sun, 19 Jul 2020</td> <th>  Prob (F-statistic):</th>   <td>  0.00</td>   \n",
       "</tr>\n",
       "<tr>\n",
       "  <th>Time:</th>                 <td>11:55:56</td>     <th>  Log-Likelihood:    </th> <td>-2.4090e+05</td>\n",
       "</tr>\n",
       "<tr>\n",
       "  <th>No. Observations:</th>      <td> 17384</td>      <th>  AIC:               </th>  <td>4.818e+05</td> \n",
       "</tr>\n",
       "<tr>\n",
       "  <th>Df Residuals:</th>          <td> 17381</td>      <th>  BIC:               </th>  <td>4.818e+05</td> \n",
       "</tr>\n",
       "<tr>\n",
       "  <th>Df Model:</th>              <td>     2</td>      <th>                     </th>      <td> </td>     \n",
       "</tr>\n",
       "<tr>\n",
       "  <th>Covariance Type:</th>      <td>nonrobust</td>    <th>                     </th>      <td> </td>     \n",
       "</tr>\n",
       "</table>\n",
       "<table class=\"simpletable\">\n",
       "<tr>\n",
       "     <td></td>        <th>coef</th>     <th>std err</th>      <th>t</th>      <th>P>|t|</th>  <th>[0.025</th>    <th>0.975]</th>  \n",
       "</tr>\n",
       "<tr>\n",
       "  <th>const</th>   <td> 1.925e+05</td> <td> 7807.199</td> <td>   24.651</td> <td> 0.000</td> <td> 1.77e+05</td> <td> 2.08e+05</td>\n",
       "</tr>\n",
       "<tr>\n",
       "  <th>power_1</th> <td>   73.4699</td> <td>    5.794</td> <td>   12.681</td> <td> 0.000</td> <td>   62.114</td> <td>   84.826</td>\n",
       "</tr>\n",
       "<tr>\n",
       "  <th>power_2</th> <td>    0.0375</td> <td>    0.001</td> <td>   38.549</td> <td> 0.000</td> <td>    0.036</td> <td>    0.039</td>\n",
       "</tr>\n",
       "</table>\n",
       "<table class=\"simpletable\">\n",
       "<tr>\n",
       "  <th>Omnibus:</th>       <td>7650.837</td> <th>  Durbin-Watson:     </th>  <td>   1.996</td> \n",
       "</tr>\n",
       "<tr>\n",
       "  <th>Prob(Omnibus):</th>  <td> 0.000</td>  <th>  Jarque-Bera (JB):  </th> <td>564852.163</td>\n",
       "</tr>\n",
       "<tr>\n",
       "  <th>Skew:</th>           <td> 1.253</td>  <th>  Prob(JB):          </th>  <td>    0.00</td> \n",
       "</tr>\n",
       "<tr>\n",
       "  <th>Kurtosis:</th>       <td>30.813</td>  <th>  Cond. No.          </th>  <td>3.08e+07</td> \n",
       "</tr>\n",
       "</table><br/><br/>Warnings:<br/>[1] Standard Errors assume that the covariance matrix of the errors is correctly specified.<br/>[2] The condition number is large, 3.08e+07. This might indicate that there are<br/>strong multicollinearity or other numerical problems."
      ],
      "text/plain": [
       "<class 'statsmodels.iolib.summary.Summary'>\n",
       "\"\"\"\n",
       "                            OLS Regression Results                            \n",
       "==============================================================================\n",
       "Dep. Variable:                  price   R-squared:                       0.534\n",
       "Model:                            OLS   Adj. R-squared:                  0.534\n",
       "Method:                 Least Squares   F-statistic:                     9956.\n",
       "Date:                Sun, 19 Jul 2020   Prob (F-statistic):               0.00\n",
       "Time:                        11:55:56   Log-Likelihood:            -2.4090e+05\n",
       "No. Observations:               17384   AIC:                         4.818e+05\n",
       "Df Residuals:                   17381   BIC:                         4.818e+05\n",
       "Df Model:                           2                                         \n",
       "Covariance Type:            nonrobust                                         \n",
       "==============================================================================\n",
       "                 coef    std err          t      P>|t|      [0.025      0.975]\n",
       "------------------------------------------------------------------------------\n",
       "const       1.925e+05   7807.199     24.651      0.000    1.77e+05    2.08e+05\n",
       "power_1       73.4699      5.794     12.681      0.000      62.114      84.826\n",
       "power_2        0.0375      0.001     38.549      0.000       0.036       0.039\n",
       "==============================================================================\n",
       "Omnibus:                     7650.837   Durbin-Watson:                   1.996\n",
       "Prob(Omnibus):                  0.000   Jarque-Bera (JB):           564852.163\n",
       "Skew:                           1.253   Prob(JB):                         0.00\n",
       "Kurtosis:                      30.813   Cond. No.                     3.08e+07\n",
       "==============================================================================\n",
       "\n",
       "Warnings:\n",
       "[1] Standard Errors assume that the covariance matrix of the errors is correctly specified.\n",
       "[2] The condition number is large, 3.08e+07. This might indicate that there are\n",
       "strong multicollinearity or other numerical problems.\n",
       "\"\"\""
      ]
     },
     "execution_count": 20,
     "metadata": {},
     "output_type": "execute_result"
    }
   ],
   "source": [
    "x = poly2_data[['power_1', 'power_2']]\n",
    "y = poly2_data['price']\n",
    "x = sm.add_constant(x)\n",
    "model2 = sm.OLS(y, x).fit()\n",
    "model2.summary()"
   ]
  },
  {
   "cell_type": "code",
   "execution_count": 21,
   "metadata": {},
   "outputs": [
    {
     "data": {
      "text/plain": [
       "[<matplotlib.lines.Line2D at 0x13863b07708>,\n",
       " <matplotlib.lines.Line2D at 0x13863b9f908>]"
      ]
     },
     "execution_count": 21,
     "metadata": {},
     "output_type": "execute_result"
    },
    {
     "data": {
      "image/png": "[encoded data removed]",
      "text/plain": [
       "<Figure size 432x288 with 1 Axes>"
      ]
     },
     "metadata": {
      "needs_background": "light"
     },
     "output_type": "display_data"
    }
   ],
   "source": [
    "y_predict = model2.predict(x)\n",
    "plt.plot(poly2_data['power_1'],y,'.',\n",
    "        poly2_data['power_1'],y_predict,'--')"
   ]
  },
  {
   "cell_type": "code",
   "execution_count": 22,
   "metadata": {},
   "outputs": [],
   "source": [
    "feature = data_train['sqft_living']\n",
    "poly15_data = polynomial_df(feature, 15)\n",
    "poly15_data['price'] = data_train['price']"
   ]
  },
  {
   "cell_type": "code",
   "execution_count": 23,
   "metadata": {},
   "outputs": [
    {
     "data": {
      "text/html": [
       "<table class=\"simpletable\">\n",
       "<caption>OLS Regression Results</caption>\n",
       "<tr>\n",
       "  <th>Dep. Variable:</th>          <td>price</td>      <th>  R-squared:         </th>  <td>  -2.009</td>  \n",
       "</tr>\n",
       "<tr>\n",
       "  <th>Model:</th>                   <td>OLS</td>       <th>  Adj. R-squared:    </th>  <td>  -2.009</td>  \n",
       "</tr>\n",
       "<tr>\n",
       "  <th>Method:</th>             <td>Least Squares</td>  <th>  F-statistic:       </th>  <td>  -5802.</td>  \n",
       "</tr>\n",
       "<tr>\n",
       "  <th>Date:</th>             <td>Sun, 19 Jul 2020</td> <th>  Prob (F-statistic):</th>   <td>  1.00</td>   \n",
       "</tr>\n",
       "<tr>\n",
       "  <th>Time:</th>                 <td>11:55:58</td>     <th>  Log-Likelihood:    </th> <td>-2.5711e+05</td>\n",
       "</tr>\n",
       "<tr>\n",
       "  <th>No. Observations:</th>      <td> 17384</td>      <th>  AIC:               </th>  <td>5.142e+05</td> \n",
       "</tr>\n",
       "<tr>\n",
       "  <th>Df Residuals:</th>          <td> 17381</td>      <th>  BIC:               </th>  <td>5.143e+05</td> \n",
       "</tr>\n",
       "<tr>\n",
       "  <th>Df Model:</th>              <td>     2</td>      <th>                     </th>      <td> </td>     \n",
       "</tr>\n",
       "<tr>\n",
       "  <th>Covariance Type:</th>      <td>nonrobust</td>    <th>                     </th>      <td> </td>     \n",
       "</tr>\n",
       "</table>\n",
       "<table class=\"simpletable\">\n",
       "<tr>\n",
       "      <td></td>        <th>coef</th>     <th>std err</th>      <th>t</th>      <th>P>|t|</th>  <th>[0.025</th>    <th>0.975]</th>  \n",
       "</tr>\n",
       "<tr>\n",
       "  <th>const</th>    <td> 1.039e-94</td> <td> 5.02e-96</td> <td>   20.709</td> <td> 0.000</td> <td> 9.41e-95</td> <td> 1.14e-94</td>\n",
       "</tr>\n",
       "<tr>\n",
       "  <th>power_1</th>  <td>-3.424e-50</td> <td> 1.65e-51</td> <td>  -20.709</td> <td> 0.000</td> <td>-3.75e-50</td> <td> -3.1e-50</td>\n",
       "</tr>\n",
       "<tr>\n",
       "  <th>power_2</th>  <td> 1.108e-55</td> <td> 5.35e-57</td> <td>   20.709</td> <td> 0.000</td> <td>    1e-55</td> <td> 1.21e-55</td>\n",
       "</tr>\n",
       "<tr>\n",
       "  <th>power_3</th>  <td>-2.201e-60</td> <td> 1.06e-61</td> <td>  -20.709</td> <td> 0.000</td> <td>-2.41e-60</td> <td>-1.99e-60</td>\n",
       "</tr>\n",
       "<tr>\n",
       "  <th>power_4</th>  <td> 7.768e-78</td> <td> 3.75e-79</td> <td>   20.709</td> <td> 0.000</td> <td> 7.03e-78</td> <td>  8.5e-78</td>\n",
       "</tr>\n",
       "<tr>\n",
       "  <th>power_5</th>  <td> 4.096e-75</td> <td> 1.98e-76</td> <td>   20.709</td> <td> 0.000</td> <td> 3.71e-75</td> <td> 4.48e-75</td>\n",
       "</tr>\n",
       "<tr>\n",
       "  <th>power_6</th>  <td> 3.456e-71</td> <td> 1.67e-72</td> <td>   20.709</td> <td> 0.000</td> <td> 3.13e-71</td> <td> 3.78e-71</td>\n",
       "</tr>\n",
       "<tr>\n",
       "  <th>power_7</th>  <td>  2.88e-67</td> <td> 1.39e-68</td> <td>   20.709</td> <td> 0.000</td> <td> 2.61e-67</td> <td> 3.15e-67</td>\n",
       "</tr>\n",
       "<tr>\n",
       "  <th>power_8</th>  <td> 2.347e-63</td> <td> 1.13e-64</td> <td>   20.709</td> <td> 0.000</td> <td> 2.13e-63</td> <td> 2.57e-63</td>\n",
       "</tr>\n",
       "<tr>\n",
       "  <th>power_9</th>  <td> 1.844e-59</td> <td>  8.9e-61</td> <td>   20.709</td> <td> 0.000</td> <td> 1.67e-59</td> <td> 2.02e-59</td>\n",
       "</tr>\n",
       "<tr>\n",
       "  <th>power_10</th> <td> 1.367e-55</td> <td>  6.6e-57</td> <td>   20.709</td> <td> 0.000</td> <td> 1.24e-55</td> <td>  1.5e-55</td>\n",
       "</tr>\n",
       "<tr>\n",
       "  <th>power_11</th> <td> 9.204e-52</td> <td> 4.44e-53</td> <td>   20.709</td> <td> 0.000</td> <td> 8.33e-52</td> <td> 1.01e-51</td>\n",
       "</tr>\n",
       "<tr>\n",
       "  <th>power_12</th> <td> 5.211e-48</td> <td> 2.52e-49</td> <td>   20.709</td> <td> 0.000</td> <td> 4.72e-48</td> <td>  5.7e-48</td>\n",
       "</tr>\n",
       "<tr>\n",
       "  <th>power_13</th> <td> 1.983e-44</td> <td> 9.57e-46</td> <td>   20.709</td> <td> 0.000</td> <td> 1.79e-44</td> <td> 2.17e-44</td>\n",
       "</tr>\n",
       "<tr>\n",
       "  <th>power_14</th> <td>-3.065e-48</td> <td> 1.51e-49</td> <td>  -20.277</td> <td> 0.000</td> <td>-3.36e-48</td> <td>-2.77e-48</td>\n",
       "</tr>\n",
       "<tr>\n",
       "  <th>power_15</th> <td> 1.183e-52</td> <td> 5.95e-54</td> <td>   19.888</td> <td> 0.000</td> <td> 1.07e-52</td> <td>  1.3e-52</td>\n",
       "</tr>\n",
       "</table>\n",
       "<table class=\"simpletable\">\n",
       "<tr>\n",
       "  <th>Omnibus:</th>       <td>11673.942</td> <th>  Durbin-Watson:     </th>  <td>   0.594</td> \n",
       "</tr>\n",
       "<tr>\n",
       "  <th>Prob(Omnibus):</th>  <td> 0.000</td>   <th>  Jarque-Bera (JB):  </th> <td>245879.480</td>\n",
       "</tr>\n",
       "<tr>\n",
       "  <th>Skew:</th>           <td> 2.937</td>   <th>  Prob(JB):          </th>  <td>    0.00</td> \n",
       "</tr>\n",
       "<tr>\n",
       "  <th>Kurtosis:</th>       <td>20.463</td>   <th>  Cond. No.          </th>  <td>1.15e+63</td> \n",
       "</tr>\n",
       "</table><br/><br/>Warnings:<br/>[1] Standard Errors assume that the covariance matrix of the errors is correctly specified.<br/>[2] The condition number is large, 1.15e+63. This might indicate that there are<br/>strong multicollinearity or other numerical problems."
      ],
      "text/plain": [
       "<class 'statsmodels.iolib.summary.Summary'>\n",
       "\"\"\"\n",
       "                            OLS Regression Results                            \n",
       "==============================================================================\n",
       "Dep. Variable:                  price   R-squared:                      -2.009\n",
       "Model:                            OLS   Adj. R-squared:                 -2.009\n",
       "Method:                 Least Squares   F-statistic:                    -5802.\n",
       "Date:                Sun, 19 Jul 2020   Prob (F-statistic):               1.00\n",
       "Time:                        11:55:58   Log-Likelihood:            -2.5711e+05\n",
       "No. Observations:               17384   AIC:                         5.142e+05\n",
       "Df Residuals:                   17381   BIC:                         5.143e+05\n",
       "Df Model:                           2                                         \n",
       "Covariance Type:            nonrobust                                         \n",
       "==============================================================================\n",
       "                 coef    std err          t      P>|t|      [0.025      0.975]\n",
       "------------------------------------------------------------------------------\n",
       "const       1.039e-94   5.02e-96     20.709      0.000    9.41e-95    1.14e-94\n",
       "power_1    -3.424e-50   1.65e-51    -20.709      0.000   -3.75e-50    -3.1e-50\n",
       "power_2     1.108e-55   5.35e-57     20.709      0.000       1e-55    1.21e-55\n",
       "power_3    -2.201e-60   1.06e-61    -20.709      0.000   -2.41e-60   -1.99e-60\n",
       "power_4     7.768e-78   3.75e-79     20.709      0.000    7.03e-78     8.5e-78\n",
       "power_5     4.096e-75   1.98e-76     20.709      0.000    3.71e-75    4.48e-75\n",
       "power_6     3.456e-71   1.67e-72     20.709      0.000    3.13e-71    3.78e-71\n",
       "power_7      2.88e-67   1.39e-68     20.709      0.000    2.61e-67    3.15e-67\n",
       "power_8     2.347e-63   1.13e-64     20.709      0.000    2.13e-63    2.57e-63\n",
       "power_9     1.844e-59    8.9e-61     20.709      0.000    1.67e-59    2.02e-59\n",
       "power_10    1.367e-55    6.6e-57     20.709      0.000    1.24e-55     1.5e-55\n",
       "power_11    9.204e-52   4.44e-53     20.709      0.000    8.33e-52    1.01e-51\n",
       "power_12    5.211e-48   2.52e-49     20.709      0.000    4.72e-48     5.7e-48\n",
       "power_13    1.983e-44   9.57e-46     20.709      0.000    1.79e-44    2.17e-44\n",
       "power_14   -3.065e-48   1.51e-49    -20.277      0.000   -3.36e-48   -2.77e-48\n",
       "power_15    1.183e-52   5.95e-54     19.888      0.000    1.07e-52     1.3e-52\n",
       "==============================================================================\n",
       "Omnibus:                    11673.942   Durbin-Watson:                   0.594\n",
       "Prob(Omnibus):                  0.000   Jarque-Bera (JB):           245879.480\n",
       "Skew:                           2.937   Prob(JB):                         0.00\n",
       "Kurtosis:                      20.463   Cond. No.                     1.15e+63\n",
       "==============================================================================\n",
       "\n",
       "Warnings:\n",
       "[1] Standard Errors assume that the covariance matrix of the errors is correctly specified.\n",
       "[2] The condition number is large, 1.15e+63. This might indicate that there are\n",
       "strong multicollinearity or other numerical problems.\n",
       "\"\"\""
      ]
     },
     "execution_count": 23,
     "metadata": {},
     "output_type": "execute_result"
    }
   ],
   "source": [
    "x = poly15_data.drop('price', axis = 1)\n",
    "y = poly2_data.iloc[:,-1]\n",
    "x = sm.add_constant(x)\n",
    "model15 = sm.OLS(y,x).fit()\n",
    "model15.summary()"
   ]
  },
  {
   "cell_type": "code",
   "execution_count": 24,
   "metadata": {},
   "outputs": [
    {
     "data": {
      "text/plain": [
       "[<matplotlib.lines.Line2D at 0x13866d55248>,\n",
       " <matplotlib.lines.Line2D at 0x13866deeec8>]"
      ]
     },
     "execution_count": 24,
     "metadata": {},
     "output_type": "execute_result"
    },
    {
     "data": {
      "image/png": "[encoded data removed]",
      "text/plain": [
       "<Figure size 432x288 with 1 Axes>"
      ]
     },
     "metadata": {
      "needs_background": "light"
     },
     "output_type": "display_data"
    }
   ],
   "source": [
    "y_predict = model15.predict(x)\n",
    "plt.plot(poly15_data['power_1'],y,'.',\n",
    "        poly15_data['power_1'],y_predict,'-')"
   ]
  },
  {
   "cell_type": "code",
   "execution_count": null,
   "metadata": {},
   "outputs": [],
   "source": []
  },
  {
   "cell_type": "code",
   "execution_count": 25,
   "metadata": {},
   "outputs": [],
   "source": [
    "set_1 = pd.read_csv(r\"D:\\self study\\python notes\\New folder\\wk3_kc_house_set_1_data.csv\")\n",
    "set_1 = set_1.astype({'bathrooms':float, 'waterfront':int, 'sqft_above':int, 'sqft_living15':float, 'grade':int, 'yr_renovated':int, 'price':float, 'bedrooms':float, 'zipcode':str, 'long':float, 'sqft_lot15':float, 'sqft_living':float, 'floors':str, 'condition':int, 'lat':float, 'date':str, 'sqft_basement':int, 'yr_built':int, 'id':str, 'sqft_lot':int, 'view':int})\n",
    "set_1 = set_1[['sqft_living','price']]\n",
    "set_1 = set_1.sort_values(['sqft_living','price'], axis = 0)"
   ]
  },
  {
   "cell_type": "code",
   "execution_count": 26,
   "metadata": {},
   "outputs": [],
   "source": [
    "set_2 = pd.read_csv(r\"D:\\self study\\python notes\\New folder\\wk3_kc_house_set_2_data.csv\")\n",
    "set_2 = set_2.astype({'bathrooms':float, 'waterfront':int, 'sqft_above':int, 'sqft_living15':float, 'grade':int, 'yr_renovated':int, 'price':float, 'bedrooms':float, 'zipcode':str, 'long':float, 'sqft_lot15':float, 'sqft_living':float, 'floors':str, 'condition':int, 'lat':float, 'date':str, 'sqft_basement':int, 'yr_built':int, 'id':str, 'sqft_lot':int, 'view':int})\n",
    "set_2 = set_2[['sqft_living','price']]\n",
    "set_2 = set_2.sort_values(['sqft_living','price'], axis = 0)"
   ]
  },
  {
   "cell_type": "code",
   "execution_count": 27,
   "metadata": {},
   "outputs": [],
   "source": [
    "set_3 = pd.read_csv(r\"D:\\self study\\python notes\\New folder\\wk3_kc_house_set_3_data.csv\")\n",
    "set_3 = set_3.astype({'bathrooms':float, 'waterfront':int, 'sqft_above':int, 'sqft_living15':float, 'grade':int, 'yr_renovated':int, 'price':float, 'bedrooms':float, 'zipcode':str, 'long':float, 'sqft_lot15':float, 'sqft_living':float, 'floors':str, 'condition':int, 'lat':float, 'date':str, 'sqft_basement':int, 'yr_built':int, 'id':str, 'sqft_lot':int, 'view':int})\n",
    "set_3 = set_1[['sqft_living','price']]\n",
    "set_3 = set_3.sort_values(['sqft_living','price'], axis = 0)"
   ]
  },
  {
   "cell_type": "code",
   "execution_count": 28,
   "metadata": {},
   "outputs": [],
   "source": [
    "set_4 = pd.read_csv(r\"D:\\self study\\python notes\\New folder\\wk3_kc_house_set_4_data.csv\")\n",
    "set_4 = set_4.astype({'bathrooms':float, 'waterfront':int, 'sqft_above':int, 'sqft_living15':float, 'grade':int, 'yr_renovated':int, 'price':float, 'bedrooms':float, 'zipcode':str, 'long':float, 'sqft_lot15':float, 'sqft_living':float, 'floors':str, 'condition':int, 'lat':float, 'date':str, 'sqft_basement':int, 'yr_built':int, 'id':str, 'sqft_lot':int, 'view':int})\n",
    "set_4 = set_4[['sqft_living','price']]\n",
    "set_4 = set_4.sort_values(['sqft_living','price'], axis = 0)"
   ]
  },
  {
   "cell_type": "code",
   "execution_count": 29,
   "metadata": {},
   "outputs": [
    {
     "name": "stdout",
     "output_type": "stream",
     "text": [
      "                            OLS Regression Results                            \n",
      "==============================================================================\n",
      "Dep. Variable:                  price   R-squared:                      -1.734\n",
      "Model:                            OLS   Adj. R-squared:                 -1.735\n",
      "Method:                 Least Squares   F-statistic:                    -1713.\n",
      "Date:                Sun, 19 Jul 2020   Prob (F-statistic):               1.00\n",
      "Time:                        11:55:59   Log-Likelihood:                -79975.\n",
      "No. Observations:                5404   AIC:                         1.600e+05\n",
      "Df Residuals:                    5401   BIC:                         1.600e+05\n",
      "Df Model:                           2                                         \n",
      "Covariance Type:            nonrobust                                         \n",
      "==============================================================================\n",
      "                 coef    std err          t      P>|t|      [0.025      0.975]\n",
      "------------------------------------------------------------------------------\n",
      "const       6.998e-94   4.33e-95     16.163      0.000    6.15e-94    7.85e-94\n",
      "power_1    -5.241e-49   3.24e-50    -16.163      0.000   -5.88e-49   -4.61e-49\n",
      "power_2     2.228e-55   1.38e-56     16.163      0.000    1.96e-55     2.5e-55\n",
      "power_3     2.084e-91   1.12e-92     18.553      0.000    1.86e-91     2.3e-91\n",
      "power_4     1.644e-77   1.02e-78     16.163      0.000    1.44e-77    1.84e-77\n",
      "power_5     2.005e-74   1.24e-75     16.163      0.000    1.76e-74    2.25e-74\n",
      "power_6     1.367e-70   8.45e-72     16.163      0.000     1.2e-70    1.53e-70\n",
      "power_7     1.036e-66   6.41e-68     16.163      0.000     9.1e-67    1.16e-66\n",
      "power_8     7.699e-63   4.76e-64     16.163      0.000    6.77e-63    8.63e-63\n",
      "power_9     5.544e-59   3.43e-60     16.163      0.000    4.87e-59    6.22e-59\n",
      "power_10    3.787e-55   2.34e-56     16.163      0.000    3.33e-55    4.25e-55\n",
      "power_11    2.365e-51   1.46e-52     16.163      0.000    2.08e-51    2.65e-51\n",
      "power_12     1.25e-47   7.73e-49     16.163      0.000     1.1e-47     1.4e-47\n",
      "power_13    4.466e-44   2.76e-45     16.163      0.000    3.92e-44    5.01e-44\n",
      "power_14   -6.957e-48   4.34e-49    -16.044      0.000   -7.81e-48   -6.11e-48\n",
      "power_15    2.702e-52    1.7e-53     15.939      0.000    2.37e-52    3.03e-52\n",
      "==============================================================================\n",
      "Omnibus:                     3030.487   Durbin-Watson:                   0.206\n",
      "Prob(Omnibus):                  0.000   Jarque-Bera (JB):            77036.642\n",
      "Skew:                           2.179   Prob(JB):                         0.00\n",
      "Kurtosis:                      20.976   Cond. No.                     6.51e+63\n",
      "==============================================================================\n",
      "\n",
      "Warnings:\n",
      "[1] Standard Errors assume that the covariance matrix of the errors is correctly specified.\n",
      "[2] The condition number is large, 6.51e+63. This might indicate that there are\n",
      "strong multicollinearity or other numerical problems.\n"
     ]
    },
    {
     "data": {
      "text/plain": [
       "[<matplotlib.lines.Line2D at 0x13866dbab88>,\n",
       " <matplotlib.lines.Line2D at 0x13866da2ec8>]"
      ]
     },
     "execution_count": 29,
     "metadata": {},
     "output_type": "execute_result"
    },
    {
     "data": {
      "image/png": "[encoded data removed]",
      "text/plain": [
       "<Figure size 432x288 with 1 Axes>"
      ]
     },
     "metadata": {
      "needs_background": "light"
     },
     "output_type": "display_data"
    }
   ],
   "source": [
    "feature = set_1['sqft_living']\n",
    "set_1p = polynomial_df(feature, 15)\n",
    "set_1p['price'] = set_1['price']\n",
    "x = set_1p.drop('price', axis = 1)\n",
    "y = set_1p.iloc[:,-1]\n",
    "x = sm.add_constant(x)\n",
    "model_1 = sm.OLS(y,x).fit()\n",
    "print(model_1.summary())\n",
    "y_predict = model_1.predict(x)\n",
    "plt.plot(set_1p['power_1'],y,'.',\n",
    "        set_1p['power_1'],y_predict,'-')"
   ]
  },
  {
   "cell_type": "code",
   "execution_count": 30,
   "metadata": {},
   "outputs": [
    {
     "name": "stdout",
     "output_type": "stream",
     "text": [
      "                            OLS Regression Results                            \n",
      "==============================================================================\n",
      "Dep. Variable:                  price   R-squared:                      -2.111\n",
      "Model:                            OLS   Adj. R-squared:                 -2.112\n",
      "Method:                 Least Squares   F-statistic:                    -1830.\n",
      "Date:                Sun, 19 Jul 2020   Prob (F-statistic):               1.00\n",
      "Time:                        11:56:00   Log-Likelihood:                -79569.\n",
      "No. Observations:                5398   AIC:                         1.591e+05\n",
      "Df Residuals:                    5395   BIC:                         1.592e+05\n",
      "Df Model:                           2                                         \n",
      "Covariance Type:            nonrobust                                         \n",
      "==============================================================================\n",
      "                 coef    std err          t      P>|t|      [0.025      0.975]\n",
      "------------------------------------------------------------------------------\n",
      "const       3.518e-90   1.88e-91     18.760      0.000    3.15e-90    3.89e-90\n",
      "power_1     2.385e-48   1.27e-49     18.760      0.000    2.14e-48    2.63e-48\n",
      "power_2     5.796e-54   3.09e-55     18.760      0.000    5.19e-54     6.4e-54\n",
      "power_3     2.655e-58   1.42e-59     18.760      0.000    2.38e-58    2.93e-58\n",
      "power_4     1.778e-74   9.48e-76     18.760      0.000    1.59e-74    1.96e-74\n",
      "power_5     1.612e-71   8.59e-73     18.760      0.000    1.44e-71    1.78e-71\n",
      "power_6     8.767e-68   4.67e-69     18.760      0.000    7.85e-68    9.68e-68\n",
      "power_7     4.711e-64   2.51e-65     18.760      0.000    4.22e-64     5.2e-64\n",
      "power_8     2.476e-60   1.32e-61     18.760      0.000    2.22e-60    2.73e-60\n",
      "power_9     1.256e-56    6.7e-58     18.760      0.000    1.12e-56    1.39e-56\n",
      "power_10    6.021e-53   3.21e-54     18.760      0.000    5.39e-53    6.65e-53\n",
      "power_11    2.628e-49    1.4e-50     18.760      0.000    2.35e-49     2.9e-49\n",
      "power_12     9.66e-46   5.15e-47     18.760      0.000    8.65e-46    1.07e-45\n",
      "power_13    2.391e-42   1.27e-43     18.760      0.000    2.14e-42    2.64e-42\n",
      "power_14   -5.717e-46   3.09e-47    -18.482      0.000   -6.32e-46   -5.11e-46\n",
      "power_15    3.391e-50   1.86e-51     18.256      0.000    3.03e-50    3.76e-50\n",
      "==============================================================================\n",
      "Omnibus:                     2179.093   Durbin-Watson:                   0.205\n",
      "Prob(Omnibus):                  0.000   Jarque-Bera (JB):            39118.025\n",
      "Skew:                           1.465   Prob(JB):                         0.00\n",
      "Kurtosis:                      15.858   Cond. No.                     8.84e+61\n",
      "==============================================================================\n",
      "\n",
      "Warnings:\n",
      "[1] Standard Errors assume that the covariance matrix of the errors is correctly specified.\n",
      "[2] The condition number is large, 8.84e+61. This might indicate that there are\n",
      "strong multicollinearity or other numerical problems.\n"
     ]
    },
    {
     "data": {
      "text/plain": [
       "[<matplotlib.lines.Line2D at 0x13866e11e48>,\n",
       " <matplotlib.lines.Line2D at 0x13866e8a748>]"
      ]
     },
     "execution_count": 30,
     "metadata": {},
     "output_type": "execute_result"
    },
    {
     "data": {
      "image/png": "[encoded data removed]",
      "text/plain": [
       "<Figure size 432x288 with 1 Axes>"
      ]
     },
     "metadata": {
      "needs_background": "light"
     },
     "output_type": "display_data"
    }
   ],
   "source": [
    "feature = set_2['sqft_living']\n",
    "set_2p = polynomial_df(feature, 15)\n",
    "set_2p['price'] = set_2['price']\n",
    "x = set_2p.drop('price', axis = 1)\n",
    "y = set_2p.iloc[:,-1]\n",
    "x = sm.add_constant(x)\n",
    "model_2 = sm.OLS(y,x).fit()\n",
    "print(model_2.summary())\n",
    "y_predict = model_2.predict(x)\n",
    "plt.plot(set_2p['power_1'],y,'.',\n",
    "        set_2p['power_1'],y_predict,'-')"
   ]
  },
  {
   "cell_type": "code",
   "execution_count": 31,
   "metadata": {},
   "outputs": [
    {
     "data": {
      "text/plain": [
       "[<matplotlib.lines.Line2D at 0x13866e02908>,\n",
       " <matplotlib.lines.Line2D at 0x13866e39908>]"
      ]
     },
     "execution_count": 31,
     "metadata": {},
     "output_type": "execute_result"
    },
    {
     "data": {
      "image/png": "[encoded data removed]",
      "text/plain": [
       "<Figure size 432x288 with 1 Axes>"
      ]
     },
     "metadata": {
      "needs_background": "light"
     },
     "output_type": "display_data"
    }
   ],
   "source": [
    "feature = set_3['sqft_living']\n",
    "set_3p = polynomial_df(feature, 15)\n",
    "set_3p['price'] = set_3['price']\n",
    "x = set_3p.drop('price', axis = 1)\n",
    "y = set_3p.iloc[:,-1]\n",
    "x = sm.add_constant(x)\n",
    "model_3 = sm.OLS(y,x).fit()\n",
    "model_3.summary()\n",
    "y_predict = model_3.predict(x)\n",
    "plt.plot(set_3p['power_1'],y,'.',\n",
    "        set_3p['power_1'],y_predict,'-')"
   ]
  },
  {
   "cell_type": "code",
   "execution_count": 32,
   "metadata": {},
   "outputs": [
    {
     "data": {
      "text/plain": [
       "[<matplotlib.lines.Line2D at 0x13866f3b688>,\n",
       " <matplotlib.lines.Line2D at 0x13866f56f48>]"
      ]
     },
     "execution_count": 32,
     "metadata": {},
     "output_type": "execute_result"
    },
    {
     "data": {
      "image/png": "[encoded data removed]",
      "text/plain": [
       "<Figure size 432x288 with 1 Axes>"
      ]
     },
     "metadata": {
      "needs_background": "light"
     },
     "output_type": "display_data"
    }
   ],
   "source": [
    "feature = set_4['sqft_living']\n",
    "set_4p = polynomial_df(feature, 15)\n",
    "set_4p['price'] = set_4['price']\n",
    "x = set_4p.drop('price', axis = 1)\n",
    "y = set_4p.iloc[:,-1]\n",
    "x = sm.add_constant(x)\n",
    "model_4 = sm.OLS(y,x).fit()\n",
    "model_4.summary()\n",
    "y_predict = model_4.predict(x)\n",
    "plt.plot(set_4p['power_1'],y,'.',\n",
    "        set_4p['power_1'],y_predict,'-')"
   ]
  },
  {
   "cell_type": "code",
   "execution_count": 33,
   "metadata": {},
   "outputs": [
    {
     "data": {
      "text/plain": [
       "(17384, 21)"
      ]
     },
     "execution_count": 33,
     "metadata": {},
     "output_type": "execute_result"
    }
   ],
   "source": [
    "np.shape(data_train)"
   ]
  },
  {
   "cell_type": "code",
   "execution_count": 34,
   "metadata": {},
   "outputs": [],
   "source": [
    "data_train = pd.read_csv(r\"D:\\self study\\python notes\\New folder\\wk3_kc_house_train_data.csv\")\n",
    "data_train = data_train.astype({'bathrooms':float, 'waterfront':int, 'sqft_above':int, 'sqft_living15':float, 'grade':int, 'yr_renovated':int, 'price':float, 'bedrooms':float, 'zipcode':str, 'long':float, 'sqft_lot15':float, 'sqft_living':float, 'floors':str, 'condition':int, 'lat':float, 'date':str, 'sqft_basement':int, 'yr_built':int, 'id':str, 'sqft_lot':int, 'view':int})"
   ]
  },
  {
   "cell_type": "code",
   "execution_count": 48,
   "metadata": {},
   "outputs": [],
   "source": [
    "#computing rss\n",
    "def rss_compute_degree(degree, train_data, valid_data, rss_array):\n",
    "    rss_array = []\n",
    "    for power in range(1, degree+1):\n",
    "        rss = 0\n",
    "        poly_data = polynomial_df(train_data['sqft_living'], power)\n",
    "        poly_data['price'] = train_data['price']\n",
    "        x = poly_data.drop('price', axis = 1)\n",
    "        y = poly_data.iloc[:,-1]\n",
    "        x = sm.add_constant(x)\n",
    "        model= sm.OLS(y,x).fit()\n",
    "        poly_validata = polynomial_df(valid_data['sqft_living'], power)\n",
    "        x_ = poly_validata\n",
    "        x_ = sm.add_constant(x_)\n",
    "        prediction = model.predict(x_)\n",
    "        rss_error = prediction - valid_data['price']\n",
    "        sq_rss = rss_error * rss_error\n",
    "        rss = sq_rss.sum()\n",
    "        rss_array.append(rss)\n",
    "    return rss_array"
   ]
  },
  {
   "cell_type": "code",
   "execution_count": 49,
   "metadata": {},
   "outputs": [],
   "source": [
    "data_valid = pd.read_csv(r\"D:\\self study\\python notes\\New folder\\wk3_kc_house_valid_data.csv\")\n",
    "data_valid = data_train.astype({'bathrooms':float, 'waterfront':int, 'sqft_above':int, 'sqft_living15':float, 'grade':int, 'yr_renovated':int, 'price':float, 'bedrooms':float, 'zipcode':str, 'long':float, 'sqft_lot15':float, 'sqft_living':float, 'floors':str, 'condition':int, 'lat':float, 'date':str, 'sqft_basement':int, 'yr_built':int, 'id':str, 'sqft_lot':int, 'view':int})"
   ]
  },
  {
   "cell_type": "code",
   "execution_count": null,
   "metadata": {},
   "outputs": [],
   "source": []
  },
  {
   "cell_type": "code",
   "execution_count": 50,
   "metadata": {},
   "outputs": [],
   "source": [
    "rss_array = []\n",
    "answer = rss_compute_degree(15, data_train, data_valid, rss_array)"
   ]
  },
  {
   "cell_type": "code",
   "execution_count": 53,
   "metadata": {},
   "outputs": [
    {
     "name": "stdout",
     "output_type": "stream",
     "text": [
      "617670141211080.6\n"
     ]
    },
    {
     "ename": "AttributeError",
     "evalue": "'numpy.float64' object has no attribute 'index'",
     "output_type": "error",
     "traceback": [
      "\u001b[1;31m---------------------------------------------------------------------------\u001b[0m",
      "\u001b[1;31mAttributeError\u001b[0m                            Traceback (most recent call last)",
      "\u001b[1;32m<ipython-input-53-d76e8683434b>\u001b[0m in \u001b[0;36m<module>\u001b[1;34m\u001b[0m\n\u001b[0;32m      1\u001b[0m \u001b[0mprint\u001b[0m\u001b[1;33m(\u001b[0m\u001b[0mmin\u001b[0m\u001b[1;33m(\u001b[0m\u001b[0manswer\u001b[0m\u001b[1;33m)\u001b[0m\u001b[1;33m)\u001b[0m\u001b[1;33m\u001b[0m\u001b[1;33m\u001b[0m\u001b[0m\n\u001b[1;32m----> 2\u001b[1;33m \u001b[0mprint\u001b[0m\u001b[1;33m(\u001b[0m\u001b[0mmin\u001b[0m\u001b[1;33m(\u001b[0m\u001b[0manswer\u001b[0m\u001b[1;33m)\u001b[0m\u001b[1;33m.\u001b[0m\u001b[0mindex\u001b[0m\u001b[1;33m(\u001b[0m\u001b[1;33m)\u001b[0m\u001b[1;33m)\u001b[0m\u001b[1;33m\u001b[0m\u001b[1;33m\u001b[0m\u001b[0m\n\u001b[0m",
      "\u001b[1;31mAttributeError\u001b[0m: 'numpy.float64' object has no attribute 'index'"
     ]
    }
   ],
   "source": [
    "print(min(answer))"
   ]
  },
  {
   "cell_type": "code",
   "execution_count": null,
   "metadata": {},
   "outputs": [],
   "source": []
  }
 ],
 "metadata": {
  "kernelspec": {
   "display_name": "Python 3",
   "language": "python",
   "name": "python3"
  },
  "language_info": {
   "codemirror_mode": {
    "name": "ipython",
    "version": 3
   },
   "file_extension": ".py",
   "mimetype": "text/x-python",
   "name": "python",
   "nbconvert_exporter": "python",
   "pygments_lexer": "ipython3",
   "version": "3.7.4"
  }
 },
 "nbformat": 4,
 "nbformat_minor": 2
}
