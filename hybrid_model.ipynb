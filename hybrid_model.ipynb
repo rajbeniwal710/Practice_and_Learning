{
  "nbformat": 4,
  "nbformat_minor": 0,
  "metadata": {
    "colab": {
      "name": "hybrid_model.ipynb",
      "provenance": [],
      "collapsed_sections": []
    },
    "kernelspec": {
      "display_name": "Python 3",
      "name": "python3"
    }
  },
  "cells": [
    {
      "cell_type": "markdown",
      "metadata": {
        "id": "G1Zfh-JsQDHj"
      },
      "source": [
        "# **GRIP Intership** **Task**"
      ]
    },
    {
      "cell_type": "markdown",
      "metadata": {
        "id": "q5o9Lc2VPubc"
      },
      "source": [
        "A LSTM mosel for stock prediction based on historic data and news headline sentiments"
      ]
    },
    {
      "cell_type": "code",
      "metadata": {
        "id": "-pX5DtSXjkK_"
      },
      "source": [
        "import pandas as pd\n",
        "import numpy as np\n",
        "import quandl\n",
        "import re"
      ],
      "execution_count": 2,
      "outputs": []
    },
    {
      "cell_type": "code",
      "metadata": {
        "colab": {
          "base_uri": "https://localhost:8080/"
        },
        "id": "8SDi0kE4jpYM",
        "outputId": "18523ad4-c3f9-4460-e0b4-7c9e85e44e3a"
      },
      "source": [
        "#reading the news data\n",
        "news = pd.read_csv('/content/drive/MyDrive/india-news-headlines.csv')\n",
        "print(\"head: \\n\", news.head())"
      ],
      "execution_count": 3,
      "outputs": [
        {
          "output_type": "stream",
          "text": [
            "head: \n",
            "    publish_date  ...                                      headline_text\n",
            "0      20010101  ...  win over cena satisfying but defeating underta...\n",
            "1      20010102  ...  Status quo will not be disturbed at Ayodhya; s...\n",
            "2      20010102  ...                Fissures in Hurriyat over Pak visit\n",
            "3      20010102  ...              America's unwanted heading for India?\n",
            "4      20010102  ...                 For bigwigs; it is destination Goa\n",
            "\n",
            "[5 rows x 3 columns]\n"
          ],
          "name": "stdout"
        }
      ]
    },
    {
      "cell_type": "code",
      "metadata": {
        "colab": {
          "base_uri": "https://localhost:8080/"
        },
        "id": "ndvARosgzMTN",
        "outputId": "42bdba41-888e-43c2-ef12-9d8703d5b709"
      },
      "source": [
        "#setting the format of publish_date column in news dataset\n",
        "news['publish_date'] = pd.to_datetime(news['publish_date'],format='%Y%m%d')\n",
        "print(\"head: \\n\", news.head())\n",
        "print(\"tail: \\n\", news.tail())"
      ],
      "execution_count": 4,
      "outputs": [
        {
          "output_type": "stream",
          "text": [
            "head: \n",
            "   publish_date  ...                                      headline_text\n",
            "0   2001-01-01  ...  win over cena satisfying but defeating underta...\n",
            "1   2001-01-02  ...  Status quo will not be disturbed at Ayodhya; s...\n",
            "2   2001-01-02  ...                Fissures in Hurriyat over Pak visit\n",
            "3   2001-01-02  ...              America's unwanted heading for India?\n",
            "4   2001-01-02  ...                 For bigwigs; it is destination Goa\n",
            "\n",
            "[5 rows x 3 columns]\n",
            "tail: \n",
            "         publish_date  ...                                      headline_text\n",
            "3297167   2020-06-30  ...      why tiktok removed 1 65 crore videos in india\n",
            "3297168   2020-06-30  ...  apurva asrani calls alia bhatts mother soni ra...\n",
            "3297169   2020-06-30  ...  kangana ranaut gets a doll version of herself ...\n",
            "3297170   2020-06-30  ...  meezaan jaffrey reminisces his childhood days ...\n",
            "3297171   2020-06-30  ...  prabhas20 titled as radhe shyam prabhas and po...\n",
            "\n",
            "[5 rows x 3 columns]\n"
          ],
          "name": "stdout"
        }
      ]
    },
    {
      "cell_type": "code",
      "metadata": {
        "colab": {
          "base_uri": "https://localhost:8080/"
        },
        "id": "Azxl1s3uxoXF",
        "outputId": "19b20e91-b63e-4d56-a6c5-30351c5aef8c"
      },
      "source": [
        "print(len(news['headline_category'].unique()))\n",
        "#since there are 1016 differe3nt types of news so lets select only business news\n",
        "news = news[news['headline_category'].str.match('bus')]"
      ],
      "execution_count": 5,
      "outputs": [
        {
          "output_type": "stream",
          "text": [
            "1016\n"
          ],
          "name": "stdout"
        }
      ]
    },
    {
      "cell_type": "code",
      "metadata": {
        "id": "Bz_NbKQzhWZD"
      },
      "source": [
        "#dropping source(headline category) column from the news dataset\n",
        "news = news.drop(['headline_category'], axis = 1)\n",
        "#merging headlinetext if multiples for a single date\n",
        "news = news.groupby('publish_date').agg({'headline_text': ', '.join}).reset_index() "
      ],
      "execution_count": 6,
      "outputs": []
    },
    {
      "cell_type": "code",
      "metadata": {
        "colab": {
          "base_uri": "https://localhost:8080/"
        },
        "id": "WRXGzWh03Tlg",
        "outputId": "c709546d-3cc9-444a-dc65-92ec2cc02add"
      },
      "source": [
        "#reading the stock data from days the first day in the news headlines to the last day\n",
        "s_date = news.iloc[0,0] #start date\n",
        "e_date = news.iloc[-1,0] #end date\n",
        "sensex = quandl.get(\"BSE/SENSEX\",authtoken=\"rtHazKkf31D2niySJrF-\", start_date = s_date, end_date = e_date)\n",
        "\n",
        "print(sensex.head(), \"\\n boom!!!\")"
      ],
      "execution_count": 7,
      "outputs": [
        {
          "output_type": "stream",
          "text": [
            "               Open     High      Low    Close\n",
            "Date                                          \n",
            "2001-01-04  4180.97  4180.97  4109.55  4115.37\n",
            "2001-01-05  4116.34  4195.01  4115.35  4183.73\n",
            "2001-01-08  4164.76  4206.72  4101.53  4120.43\n",
            "2001-01-09  4114.74  4166.84  4101.01  4125.31\n",
            "2001-01-10  4151.58  4155.86  4035.44  4047.64 \n",
            " boom!!!\n"
          ],
          "name": "stdout"
        }
      ]
    },
    {
      "cell_type": "markdown",
      "metadata": {
        "id": "rWNov4hLGiaC"
      },
      "source": [
        "Sentimental analysis of NEWS"
      ]
    },
    {
      "cell_type": "code",
      "metadata": {
        "id": "CYUOkncyLwRt"
      },
      "source": [
        "import string\n",
        "import nltk\n",
        "from nltk.corpus import stopwords\n",
        "import re"
      ],
      "execution_count": 8,
      "outputs": []
    },
    {
      "cell_type": "code",
      "metadata": {
        "id": "BDCJE5SuG_O0"
      },
      "source": [
        "#reseting date as index...\n",
        "news = news.set_index('publish_date')"
      ],
      "execution_count": 9,
      "outputs": []
    },
    {
      "cell_type": "code",
      "metadata": {
        "colab": {
          "base_uri": "https://localhost:8080/"
        },
        "id": "-eLskJAS4bvv",
        "outputId": "6a2e1c66-ce15-4378-a690-aafc8de74d99"
      },
      "source": [
        "#see how the text looks to decide on its cleaning\n",
        "news.headline_text"
      ],
      "execution_count": 10,
      "outputs": [
        {
          "output_type": "execute_result",
          "data": {
            "text/plain": [
              "publish_date\n",
              "2001-01-04         Car dealers caught in Bihar sales tax ruling\n",
              "2001-05-22    Re-negotiation best: Deshmukh; lenders' SOS to...\n",
              "2001-05-28    Auto body drives in new classification norms, ...\n",
              "2001-05-29    Ashok Leyland to cut jobs; divisions, 'Fixing ...\n",
              "2001-05-30    Beware; the snoopware is watching you!, IA div...\n",
              "                                    ...                        \n",
              "2020-06-26    Preferential offers get more pricing options f...\n",
              "2020-06-27    'Ashok Leyland independent biz; won't be impac...\n",
              "2020-06-28    Ordinance to let RBI revive banks without mora...\n",
              "2020-06-29    Techtonic Review: The OnePlus 8 and OnePlus 8 ...\n",
              "2020-06-30    Solar plan to make Leh self-reliant hanging fi...\n",
              "Name: headline_text, Length: 6878, dtype: object"
            ]
          },
          "metadata": {
            "tags": []
          },
          "execution_count": 10
        }
      ]
    },
    {
      "cell_type": "code",
      "metadata": {
        "colab": {
          "base_uri": "https://localhost:8080/"
        },
        "id": "cPPyPwEvQXbA",
        "outputId": "9579d8e0-0b8e-46f7-b7b2-2df9d4348ef0"
      },
      "source": [
        "  # NLTK VADER for sentiment analysis\n",
        "from nltk.sentiment.vader import SentimentIntensityAnalyzer\n",
        "nltk.download('vader_lexicon')"
      ],
      "execution_count": 11,
      "outputs": [
        {
          "output_type": "stream",
          "text": [
            "[nltk_data] Downloading package vader_lexicon to /root/nltk_data...\n"
          ],
          "name": "stdout"
        },
        {
          "output_type": "stream",
          "text": [
            "/usr/local/lib/python3.6/dist-packages/nltk/twitter/__init__.py:20: UserWarning: The twython library has not been installed. Some functionality from the twitter package will not be available.\n",
            "  warnings.warn(\"The twython library has not been installed. \"\n"
          ],
          "name": "stderr"
        },
        {
          "output_type": "execute_result",
          "data": {
            "text/plain": [
              "True"
            ]
          },
          "metadata": {
            "tags": []
          },
          "execution_count": 11
        }
      ]
    },
    {
      "cell_type": "code",
      "metadata": {
        "colab": {
          "base_uri": "https://localhost:8080/"
        },
        "id": "HFhnkrayLfDn",
        "outputId": "a8aec0f5-ddf0-4d4b-9aa8-705cfe13ae8b"
      },
      "source": [
        "# scores for the news headlines\n",
        "vader = SentimentIntensityAnalyzer()\n",
        "vader.lexicon\n",
        "news['compound'] = news['headline_text'].apply(lambda x: vader.polarity_scores(x)['compound'])\n",
        "print(news.head())\n",
        "print(\"BOOM!!! Its Done!!!\")"
      ],
      "execution_count": 12,
      "outputs": [
        {
          "output_type": "stream",
          "text": [
            "                                                  headline_text  compound\n",
            "publish_date                                                             \n",
            "2001-01-04         Car dealers caught in Bihar sales tax ruling    0.0000\n",
            "2001-05-22    Re-negotiation best: Deshmukh; lenders' SOS to...    0.4767\n",
            "2001-05-28    Auto body drives in new classification norms, ...    0.6199\n",
            "2001-05-29    Ashok Leyland to cut jobs; divisions, 'Fixing ...   -0.7906\n",
            "2001-05-30    Beware; the snoopware is watching you!, IA div...    0.0000\n",
            "BOOM!!! Its Done!!!\n"
          ],
          "name": "stdout"
        }
      ]
    },
    {
      "cell_type": "code",
      "metadata": {
        "id": "MUOsseqL4bWc"
      },
      "source": [
        "#lets start satcked lstm stock analysis\n",
        "#since we hav already read sensex data\n",
        "#so lets start here we go!!"
      ],
      "execution_count": 13,
      "outputs": []
    },
    {
      "cell_type": "code",
      "metadata": {
        "id": "PuHlXIrT6Upl"
      },
      "source": [
        "import matplotlib.pyplot as plt\n",
        "import numpy as np\n",
        "from sklearn.preprocessing import MinMaxScaler"
      ],
      "execution_count": 14,
      "outputs": []
    },
    {
      "cell_type": "code",
      "metadata": {
        "id": "M6rGq4-D80A8"
      },
      "source": [
        "data = sensex.join(news)"
      ],
      "execution_count": 15,
      "outputs": []
    },
    {
      "cell_type": "code",
      "metadata": {
        "colab": {
          "base_uri": "https://localhost:8080/"
        },
        "id": "aI3JHrqsgOMd",
        "outputId": "6a6b6483-8e64-44cc-c044-28b4fdd18abc"
      },
      "source": [
        "data = data[['compound', 'Open']]\n",
        "data['compound'] = data['compound'].replace(np.nan, 0)\n",
        "print(data.head())\n",
        "print(data.isna().sum())"
      ],
      "execution_count": 16,
      "outputs": [
        {
          "output_type": "stream",
          "text": [
            "            compound     Open\n",
            "Date                         \n",
            "2001-01-04       0.0  4180.97\n",
            "2001-01-05       0.0  4116.34\n",
            "2001-01-08       0.0  4164.76\n",
            "2001-01-09       0.0  4114.74\n",
            "2001-01-10       0.0  4151.58\n",
            "compound    0\n",
            "Open        0\n",
            "dtype: int64\n"
          ],
          "name": "stdout"
        }
      ]
    },
    {
      "cell_type": "code",
      "metadata": {
        "colab": {
          "base_uri": "https://localhost:8080/",
          "height": 282
        },
        "id": "Tc1fLVtgN_RT",
        "outputId": "5c3dba4a-8b32-4354-d95f-7887e8b188e8"
      },
      "source": [
        "plt.plot(data['Open']) "
      ],
      "execution_count": 17,
      "outputs": [
        {
          "output_type": "execute_result",
          "data": {
            "text/plain": [
              "[<matplotlib.lines.Line2D at 0x7f27a9cfa9e8>]"
            ]
          },
          "metadata": {
            "tags": []
          },
          "execution_count": 17
        },
        {
          "output_type": "display_data",
          "data": {
            "image/png": "[encoded data removed]",
            "text/plain": [
              "<Figure size 432x288 with 1 Axes>"
            ]
          },
          "metadata": {
            "tags": [],
            "needs_background": "light"
          }
        }
      ]
    },
    {
      "cell_type": "code",
      "metadata": {
        "colab": {
          "base_uri": "https://localhost:8080/"
        },
        "id": "DiER5gJTubb7",
        "outputId": "cc124e42-512d-41c2-b87b-e5aa3d04639f"
      },
      "source": [
        "#lets split the data into training, validation and test set\n",
        "#keeping the ratio of 80:20\n",
        "data_train, data_test = data[0:int(len(data)*0.8)], data[int(len(data)*0.8):]\n",
        "data_train.shape, data_test.shape"
      ],
      "execution_count": 62,
      "outputs": [
        {
          "output_type": "execute_result",
          "data": {
            "text/plain": [
              "((3875, 2), (969, 2))"
            ]
          },
          "metadata": {
            "tags": []
          },
          "execution_count": 62
        }
      ]
    },
    {
      "cell_type": "code",
      "metadata": {
        "id": "ePxxykv6RDAr"
      },
      "source": [
        "#creating matrix \n",
        "# references: https://www.youtube.com/watch?v=H6du_pfuznE\n",
        "def create_dataset(dataset, score_vader, look_back=1):\n",
        "\tdataX, dataY = [], []\n",
        "\tfor i in range(len(dataset)-look_back-1):\n",
        "\t\ta = dataset[i:(i+look_back), 0]\n",
        "\t\tb = score_vader[i+look_back]\n",
        "\t\tdataX.append(np.append(a,b))\n",
        "\t\tdataY.append(dataset[i + look_back, 0])\n",
        "\treturn np.array(dataX), np.array(dataY)"
      ],
      "execution_count": 61,
      "outputs": []
    },
    {
      "cell_type": "code",
      "metadata": {
        "id": "EwpohyjC0Nig"
      },
      "source": [
        "#data scalling\n",
        "#lstm is sensitive to the scale of data\n",
        "from sklearn.preprocessing import MinMaxScaler\n",
        "data_scaling1 = MinMaxScaler(feature_range=(0,1))\n",
        "data_train_scaled = data_scaling1.fit_transform(data_train['Open'].values.reshape(-1, 1))\n",
        "data_test_scaled = data_scaling1.transform(data_test['Open'].values.reshape(-1, 1))\n",
        "\n",
        "data_scaling2 = MinMaxScaler()\n",
        "training_compound_scaled = data_scaling2.fit_transform(data_train['compound'].values.reshape(-1, 1))\n",
        "test_compound_scaled = data_scaling2.transform(data_test['compound'].values.reshape(-1, 1))"
      ],
      "execution_count": 63,
      "outputs": []
    },
    {
      "cell_type": "code",
      "metadata": {
        "id": "-3McUuI4Rot_"
      },
      "source": [
        "# creating dataset with the last 45 days historic data and sentiments score of todays news headlines\n",
        "train_x, train_y = create_dataset(data_train_scaled, training_compound_scaled, 45)\n",
        "test_x, test_y = create_dataset(data_test_scaled, test_compound_scaled, 45)"
      ],
      "execution_count": 64,
      "outputs": []
    },
    {
      "cell_type": "code",
      "metadata": {
        "colab": {
          "base_uri": "https://localhost:8080/"
        },
        "id": "36mgfdwI3wiF",
        "outputId": "78824819-12fd-4a5e-db69-08c88e981949"
      },
      "source": [
        "#check shape of data\n",
        "print(train_x.shape, train_y.shape)\n",
        "print(test_x.shape, test_y.shape)"
      ],
      "execution_count": 65,
      "outputs": [
        {
          "output_type": "stream",
          "text": [
            "(3829, 46) (3829,)\n",
            "(923, 46) (923,)\n"
          ],
          "name": "stdout"
        }
      ]
    },
    {
      "cell_type": "code",
      "metadata": {
        "id": "pnnWBW0P4o99"
      },
      "source": [
        "#creating arrays\n",
        "#reshaping the input x dataset to 3 dimensions\n",
        "train_x, train_y = np.array(train_x), np.array(train_y)\n",
        "train_x = np.reshape(train_x, (train_x.shape[0], train_x.shape[1], 1))\n",
        "\n",
        "test_x, test_y = np.array(test_x), np.array(test_y)\n",
        "test_x = np.reshape(test_x, (test_x.shape[0], test_x.shape[1], 1))"
      ],
      "execution_count": 66,
      "outputs": []
    },
    {
      "cell_type": "code",
      "metadata": {
        "colab": {
          "base_uri": "https://localhost:8080/"
        },
        "id": "gIHmPHDA8lfn",
        "outputId": "18ff70a1-db01-486f-83f3-f3fba11e2926"
      },
      "source": [
        "# Create the Stacked LSTM model\n",
        "from tensorflow.keras.models import Sequential\n",
        "from tensorflow.keras.layers import Dense\n",
        "from tensorflow.keras.layers import LSTM\n",
        "model=Sequential()\n",
        "model.add(LSTM(50,return_sequences=True,input_shape=(train_x.shape[1], 1)))\n",
        "model.add(LSTM(50,return_sequences=True))\n",
        "model.add(LSTM(50))\n",
        "model.add(Dense(1))\n",
        "model.compile(loss='mean_squared_error',optimizer='adam')\n",
        "#reshaping data to three d\n",
        "model.fit(train_x, train_y, validation_data = (train_x, train_y), epochs=50, batch_size=75)"
      ],
      "execution_count": 67,
      "outputs": [
        {
          "output_type": "stream",
          "text": [
            "Epoch 1/50\n",
            "52/52 [==============================] - 6s 125ms/step - loss: 0.0240 - val_loss: 8.2984e-04\n",
            "Epoch 2/50\n",
            "52/52 [==============================] - 6s 116ms/step - loss: 5.4843e-04 - val_loss: 4.7209e-04\n",
            "Epoch 3/50\n",
            "52/52 [==============================] - 6s 119ms/step - loss: 4.7312e-04 - val_loss: 4.4984e-04\n",
            "Epoch 4/50\n",
            "52/52 [==============================] - 6s 124ms/step - loss: 4.6496e-04 - val_loss: 4.6188e-04\n",
            "Epoch 5/50\n",
            "52/52 [==============================] - 6s 116ms/step - loss: 4.4542e-04 - val_loss: 4.5210e-04\n",
            "Epoch 6/50\n",
            "52/52 [==============================] - 6s 122ms/step - loss: 4.3724e-04 - val_loss: 5.7970e-04\n",
            "Epoch 7/50\n",
            "52/52 [==============================] - 6s 123ms/step - loss: 4.4518e-04 - val_loss: 4.0788e-04\n",
            "Epoch 8/50\n",
            "52/52 [==============================] - 6s 119ms/step - loss: 4.0774e-04 - val_loss: 3.7585e-04\n",
            "Epoch 9/50\n",
            "52/52 [==============================] - 6s 118ms/step - loss: 3.7616e-04 - val_loss: 3.7532e-04\n",
            "Epoch 10/50\n",
            "52/52 [==============================] - 6s 116ms/step - loss: 3.8510e-04 - val_loss: 3.7863e-04\n",
            "Epoch 11/50\n",
            "52/52 [==============================] - 6s 117ms/step - loss: 3.6878e-04 - val_loss: 3.4513e-04\n",
            "Epoch 12/50\n",
            "52/52 [==============================] - 6s 117ms/step - loss: 3.7405e-04 - val_loss: 3.2583e-04\n",
            "Epoch 13/50\n",
            "52/52 [==============================] - 6s 116ms/step - loss: 3.6145e-04 - val_loss: 5.5114e-04\n",
            "Epoch 14/50\n",
            "52/52 [==============================] - 6s 117ms/step - loss: 3.8102e-04 - val_loss: 4.6207e-04\n",
            "Epoch 15/50\n",
            "52/52 [==============================] - 6s 118ms/step - loss: 3.2863e-04 - val_loss: 3.0245e-04\n",
            "Epoch 16/50\n",
            "52/52 [==============================] - 6s 121ms/step - loss: 3.1803e-04 - val_loss: 2.9791e-04\n",
            "Epoch 17/50\n",
            "52/52 [==============================] - 6s 117ms/step - loss: 3.3224e-04 - val_loss: 6.3361e-04\n",
            "Epoch 18/50\n",
            "52/52 [==============================] - 6s 117ms/step - loss: 3.4127e-04 - val_loss: 2.8233e-04\n",
            "Epoch 19/50\n",
            "52/52 [==============================] - 6s 115ms/step - loss: 3.1484e-04 - val_loss: 4.7448e-04\n",
            "Epoch 20/50\n",
            "52/52 [==============================] - 6s 116ms/step - loss: 3.1026e-04 - val_loss: 4.8040e-04\n",
            "Epoch 21/50\n",
            "52/52 [==============================] - 6s 119ms/step - loss: 3.4702e-04 - val_loss: 5.2889e-04\n",
            "Epoch 22/50\n",
            "52/52 [==============================] - 6s 118ms/step - loss: 3.2974e-04 - val_loss: 3.3101e-04\n",
            "Epoch 23/50\n",
            "52/52 [==============================] - 6s 120ms/step - loss: 3.2126e-04 - val_loss: 3.0249e-04\n",
            "Epoch 24/50\n",
            "52/52 [==============================] - 6s 117ms/step - loss: 3.1520e-04 - val_loss: 2.6612e-04\n",
            "Epoch 25/50\n",
            "52/52 [==============================] - 6s 116ms/step - loss: 2.8195e-04 - val_loss: 5.2427e-04\n",
            "Epoch 26/50\n",
            "52/52 [==============================] - 6s 118ms/step - loss: 3.1455e-04 - val_loss: 2.9154e-04\n",
            "Epoch 27/50\n",
            "52/52 [==============================] - 6s 116ms/step - loss: 3.0120e-04 - val_loss: 3.1229e-04\n",
            "Epoch 28/50\n",
            "52/52 [==============================] - 6s 118ms/step - loss: 2.7968e-04 - val_loss: 3.3784e-04\n",
            "Epoch 29/50\n",
            "52/52 [==============================] - 6s 118ms/step - loss: 2.8657e-04 - val_loss: 2.6306e-04\n",
            "Epoch 30/50\n",
            "52/52 [==============================] - 6s 119ms/step - loss: 2.6752e-04 - val_loss: 6.0856e-04\n",
            "Epoch 31/50\n",
            "52/52 [==============================] - 6s 118ms/step - loss: 3.2915e-04 - val_loss: 0.0014\n",
            "Epoch 32/50\n",
            "52/52 [==============================] - 6s 116ms/step - loss: 4.7494e-04 - val_loss: 2.6067e-04\n",
            "Epoch 33/50\n",
            "52/52 [==============================] - 6s 119ms/step - loss: 2.9522e-04 - val_loss: 0.0014\n",
            "Epoch 34/50\n",
            "52/52 [==============================] - 6s 120ms/step - loss: 3.7901e-04 - val_loss: 2.8865e-04\n",
            "Epoch 35/50\n",
            "52/52 [==============================] - 6s 118ms/step - loss: 2.8296e-04 - val_loss: 3.2640e-04\n",
            "Epoch 36/50\n",
            "52/52 [==============================] - 6s 117ms/step - loss: 2.8065e-04 - val_loss: 2.4812e-04\n",
            "Epoch 37/50\n",
            "52/52 [==============================] - 6s 117ms/step - loss: 2.6610e-04 - val_loss: 2.5958e-04\n",
            "Epoch 38/50\n",
            "52/52 [==============================] - 6s 117ms/step - loss: 2.5920e-04 - val_loss: 3.6549e-04\n",
            "Epoch 39/50\n",
            "52/52 [==============================] - 6s 120ms/step - loss: 2.8963e-04 - val_loss: 5.6925e-04\n",
            "Epoch 40/50\n",
            "52/52 [==============================] - 6s 117ms/step - loss: 2.9429e-04 - val_loss: 3.5770e-04\n",
            "Epoch 41/50\n",
            "52/52 [==============================] - 6s 115ms/step - loss: 2.6618e-04 - val_loss: 2.8147e-04\n",
            "Epoch 42/50\n",
            "52/52 [==============================] - 6s 117ms/step - loss: 2.4784e-04 - val_loss: 2.6279e-04\n",
            "Epoch 43/50\n",
            "52/52 [==============================] - 6s 116ms/step - loss: 2.6354e-04 - val_loss: 3.1478e-04\n",
            "Epoch 44/50\n",
            "52/52 [==============================] - 6s 116ms/step - loss: 2.5969e-04 - val_loss: 3.0640e-04\n",
            "Epoch 45/50\n",
            "52/52 [==============================] - 6s 116ms/step - loss: 2.4847e-04 - val_loss: 2.3852e-04\n",
            "Epoch 46/50\n",
            "52/52 [==============================] - 6s 117ms/step - loss: 2.4915e-04 - val_loss: 2.5256e-04\n",
            "Epoch 47/50\n",
            "52/52 [==============================] - 6s 120ms/step - loss: 2.4368e-04 - val_loss: 3.0948e-04\n",
            "Epoch 48/50\n",
            "52/52 [==============================] - 6s 121ms/step - loss: 2.4374e-04 - val_loss: 2.3302e-04\n",
            "Epoch 49/50\n",
            "52/52 [==============================] - 6s 119ms/step - loss: 2.3690e-04 - val_loss: 3.0879e-04\n",
            "Epoch 50/50\n",
            "52/52 [==============================] - 6s 116ms/step - loss: 2.5402e-04 - val_loss: 2.2106e-04\n"
          ],
          "name": "stdout"
        },
        {
          "output_type": "execute_result",
          "data": {
            "text/plain": [
              "<tensorflow.python.keras.callbacks.History at 0x7f2753fbecc0>"
            ]
          },
          "metadata": {
            "tags": []
          },
          "execution_count": 67
        }
      ]
    },
    {
      "cell_type": "code",
      "metadata": {
        "colab": {
          "base_uri": "https://localhost:8080/"
        },
        "id": "ve5tBUZr9tv5",
        "outputId": "c2d664b7-2670-485d-e838-bba0e7d205dd"
      },
      "source": [
        "train_predict = model.predict(train_x) \n",
        "test_predict = model.predict(test_x)\n",
        "train_predict"
      ],
      "execution_count": 68,
      "outputs": [
        {
          "output_type": "execute_result",
          "data": {
            "text/plain": [
              "array([[0.05697743],\n",
              "       [0.05584794],\n",
              "       [0.05412764],\n",
              "       ...,\n",
              "       [0.92160225],\n",
              "       [0.93333906],\n",
              "       [0.9179078 ]], dtype=float32)"
            ]
          },
          "metadata": {
            "tags": []
          },
          "execution_count": 68
        }
      ]
    },
    {
      "cell_type": "code",
      "metadata": {
        "id": "snEW95MV7vBF",
        "colab": {
          "base_uri": "https://localhost:8080/"
        },
        "outputId": "9db6bea6-a4e9-49a6-d517-463617a5f14e"
      },
      "source": [
        "#traonsform to orignal form\n",
        "train_predict1 = data_scaling1.inverse_transform(train_predict) \n",
        "test_predict1 = data_scaling1.inverse_transform(test_predict) \n",
        "print(train_predict1)"
      ],
      "execution_count": 69,
      "outputs": [
        {
          "output_type": "stream",
          "text": [
            "[[ 4178.25  ]\n",
            " [ 4147.3975]\n",
            " [ 4100.407 ]\n",
            " ...\n",
            " [27795.807 ]\n",
            " [28116.4   ]\n",
            " [27694.889 ]]\n"
          ],
          "name": "stdout"
        }
      ]
    },
    {
      "cell_type": "code",
      "metadata": {
        "id": "QhrGQfhe_Y2d"
      },
      "source": [
        "train_y_re = data_scaling1.inverse_transform(train_y.reshape(-1,1))\n",
        "test_y_re = data_scaling1.inverse_transform(test_y.reshape(-1,1))"
      ],
      "execution_count": 70,
      "outputs": []
    },
    {
      "cell_type": "code",
      "metadata": {
        "colab": {
          "base_uri": "https://localhost:8080/"
        },
        "id": "EjmNZOaV8Gfq",
        "outputId": "adfff8f0-0bdd-4e94-b712-724c4db9f538"
      },
      "source": [
        "# Calculate RMSE performance metrics\n",
        "import math\n",
        "from sklearn.metrics import mean_squared_error\n",
        "print(\"RMSE for train dataset:\", math.sqrt(mean_squared_error(train_y_re,train_predict1)))"
      ],
      "execution_count": 71,
      "outputs": [
        {
          "output_type": "stream",
          "text": [
            "RMSE for train dataset: 406.1279222390244\n"
          ],
          "name": "stdout"
        }
      ]
    },
    {
      "cell_type": "code",
      "metadata": {
        "colab": {
          "base_uri": "https://localhost:8080/"
        },
        "id": "RjJybski0hTl",
        "outputId": "b63b06ed-0020-4720-fa39-a081565f044b"
      },
      "source": [
        "print(\"RMSE for test dataset:\", math.sqrt(mean_squared_error(test_y_re,test_predict1)))"
      ],
      "execution_count": 88,
      "outputs": [
        {
          "output_type": "stream",
          "text": [
            "RMSE for test dataset: 768.1522469377109\n"
          ],
          "name": "stdout"
        }
      ]
    },
    {
      "cell_type": "code",
      "metadata": {
        "colab": {
          "base_uri": "https://localhost:8080/",
          "height": 265
        },
        "id": "RzFQNnqDDjRK",
        "outputId": "510dea77-061b-4538-b527-c19c1a3c68a9"
      },
      "source": [
        "# Plotting \n",
        "# shift train predictions for plotting\n",
        "# reference : https://www.youtube.com/watch?v=H6du_pfuznE\n",
        "look_back=45\n",
        "trainPredictPlot = numpy.empty_like(data1)\n",
        "trainPredictPlot[:, :] = np.nan\n",
        "trainPredictPlot[look_back:len(train_predict1)+look_back, :] = train_predict1\n",
        "# shift test predictions for plotting\n",
        "testPredictPlot = numpy.empty_like(data1)\n",
        "testPredictPlot[:, :] = numpy.nan\n",
        "testPredictPlot[len(train_predict1)+(look_back*2)+1:len(data1)-1, :] = test_predict1\n",
        "# plot baseline and predictions\n",
        "plt.plot(data1['Open'])\n",
        "plt.plot(trainPredictPlot)\n",
        "plt.plot(testPredictPlot)\n",
        "plt.show()"
      ],
      "execution_count": 89,
      "outputs": [
        {
          "output_type": "display_data",
          "data": {
            "image/png": "[encoded data removed]",
            "text/plain": [
              "<Figure size 432x288 with 1 Axes>"
            ]
          },
          "metadata": {
            "tags": [],
            "needs_background": "light"
          }
        }
      ]
    },
    {
      "cell_type": "markdown",
      "metadata": {
        "id": "q0VdnWIqPayI"
      },
      "source": [
        "references:\n",
        "https://www.youtube.com/watch?v=H6du_pfuznE\n",
        "\n",
        "https://towardsdatascience.com/nlp-in-python-data-cleaning-6313a404a470\n",
        "\n",
        "https://github.com/Shagun-25/Nifty-Index-Prediction-Using-News-Sentiments/blob/master/Stock_Prediction.ipynb\n",
        "\n",
        "https://predictivehacks.com/how-to-run-sentiment-analysis-in-python-using-vader/\n"
      ]
    },
    {
      "cell_type": "code",
      "metadata": {
        "id": "xYIPKvBhIkoJ"
      },
      "source": [
        ""
      ],
      "execution_count": null,
      "outputs": []
    }
  ]
}